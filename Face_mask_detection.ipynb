{
 "cells": [
  {
   "cell_type": "markdown",
   "metadata": {},
   "source": [
    "## Face Mask Detection\n",
    "### A face mask detection project is a computer vision application that aims to automatically detect whether a person is wearing a face mask or not in images or real-time video streams.  The project involves the use of machine learning and deep learning techniques to identify and classify individuals into two categories: those wearing masks correctly and those not wearing masks. \n",
    "\n",
    "### Let us start the project by importing the necessary ml and deep learning libraries....."
   ]
  },
  {
   "cell_type": "code",
   "execution_count": 130,
   "metadata": {},
   "outputs": [],
   "source": [
    "import numpy as np\n",
    "import pickle\n",
    "import cv2\n",
    "from os import listdir\n",
    "from sklearn.preprocessing import LabelBinarizer\n",
    "from keras.models import Sequential\n",
    "from keras.layers import BatchNormalization\n",
    "from keras.layers import Conv2D\n",
    "from keras.layers import MaxPooling2D\n",
    "from keras.layers import Activation, Flatten, Dropout, Dense\n",
    "from keras import backend as K\n",
    "from keras.preprocessing.image import ImageDataGenerator\n",
    "from keras.optimizers import Adam\n",
    "from keras.preprocessing import image\n",
    "from keras.preprocessing.image import img_to_array\n",
    "from sklearn.preprocessing import MultiLabelBinarizer\n",
    "from sklearn.model_selection import train_test_split\n",
    "import matplotlib.pyplot as plt\n",
    "from tensorflow.keras.optimizers import legacy as legacy_optimizers"
   ]
  },
  {
   "cell_type": "markdown",
   "metadata": {},
   "source": [
    "#### setting the path of the dataset and initialising the parameters"
   ]
  },
  {
   "cell_type": "code",
   "execution_count": 131,
   "metadata": {},
   "outputs": [],
   "source": [
    "EPOCHS = 25\n",
    "INIT_LR = 1e-3\n",
    "BS = 32\n",
    "default_image_size = tuple((256, 256))\n",
    "image_size = 0\n",
    "directory_root = 'C:/Users/ayush/OneDrive/Desktop/Data sc/datasets/Face_Mask_Detection_Dataset_MaskNet'\n",
    "width=256\n",
    "height=256\n",
    "depth=3"
   ]
  },
  {
   "cell_type": "markdown",
   "metadata": {},
   "source": [
    "#### Converting the image to a numpy array for training the model"
   ]
  },
  {
   "cell_type": "code",
   "execution_count": 132,
   "metadata": {},
   "outputs": [],
   "source": [
    "def convert_image_to_array(image_dir):\n",
    "    try:\n",
    "        image = cv2.imread(image_dir)\n",
    "        if image is not None :\n",
    "            image = cv2.resize(image, default_image_size)   \n",
    "            return img_to_array(image)\n",
    "        else :\n",
    "            return np.array([])\n",
    "    except Exception as e:\n",
    "        print(f\"Error : {e}\")\n",
    "        return None"
   ]
  },
  {
   "cell_type": "markdown",
   "metadata": {},
   "source": [
    "#### Creating a link between the folders and appending the image to the list by converting it to array and also adding the labels of the corresponding image to to the label_list"
   ]
  },
  {
   "cell_type": "code",
   "execution_count": 133,
   "metadata": {},
   "outputs": [
    {
     "name": "stdout",
     "output_type": "stream",
     "text": [
      "[INFO] Loading images ...\n",
      "[INFO] Processing folder: With_mask ...\n",
      "[INFO] Processing folder: Without_mask ...\n",
      "[INFO] Image loading completed\n"
     ]
    }
   ],
   "source": [
    "import os\n",
    "image_list, label_list = [], []\n",
    "try:\n",
    "    print(\"[INFO] Loading images ...\")\n",
    "    \n",
    "    for folder_name in [\"With_mask\", \"Without_mask\"]:\n",
    "        folder_path = os.path.join(directory_root, folder_name)\n",
    "        \n",
    "        if not os.path.exists(folder_path):\n",
    "            continue  # Skip if the folder doesn't exist\n",
    "        \n",
    "        print(f\"[INFO] Processing folder: {folder_name} ...\")\n",
    "        \n",
    "        for image_name in os.listdir(folder_path):\n",
    "            if image_name.endswith((\".jpg\", \".JPG\",\".png\")):\n",
    "                image_directory = os.path.join(folder_path, image_name)\n",
    "                image_list.append(convert_image_to_array(image_directory))\n",
    "                label_list.append(folder_name)\n",
    "    \n",
    "    print(\"[INFO] Image loading completed\")  \n",
    "except Exception as e:\n",
    "    print(f\"Error: {e}\")\n"
   ]
  },
  {
   "cell_type": "code",
   "execution_count": 134,
   "metadata": {},
   "outputs": [
    {
     "name": "stdout",
     "output_type": "stream",
     "text": [
      "1290\n",
      "1290\n"
     ]
    }
   ],
   "source": [
    "image_size = len(image_list)\n",
    "print(image_size)\n",
    "label_size = len(label_list)\n",
    "print(label_size)"
   ]
  },
  {
   "cell_type": "markdown",
   "metadata": {},
   "source": [
    "#### Performing label binarization i.e saving the label binarizer to a file, and determining the number of classes in your dataset\n",
    "#### label binarizer converts the categorical values to label"
   ]
  },
  {
   "cell_type": "code",
   "execution_count": 135,
   "metadata": {},
   "outputs": [],
   "source": [
    "label_binarizer = LabelBinarizer()\n",
    "image_labels = label_binarizer.fit_transform(label_list)\n",
    "pickle.dump(label_binarizer,open('label_transform.pkl', 'wb'))\n",
    "n_classes = len(label_binarizer.classes_)"
   ]
  },
  {
   "cell_type": "code",
   "execution_count": 136,
   "metadata": {},
   "outputs": [
    {
     "name": "stdout",
     "output_type": "stream",
     "text": [
      "['With_mask' 'Without_mask']\n"
     ]
    }
   ],
   "source": [
    "print(label_binarizer.classes_)"
   ]
  },
  {
   "cell_type": "markdown",
   "metadata": {},
   "source": [
    "#### converting the elements of array in range 0-1 which will increase accuracy"
   ]
  },
  {
   "cell_type": "code",
   "execution_count": 137,
   "metadata": {},
   "outputs": [],
   "source": [
    "np_image_list = np.array(image_list, dtype=np.float16) / 223.0"
   ]
  },
  {
   "cell_type": "code",
   "execution_count": 138,
   "metadata": {},
   "outputs": [
    {
     "name": "stdout",
     "output_type": "stream",
     "text": [
      " Spliting data to train, test\n"
     ]
    }
   ],
   "source": [
    "print(\" Spliting data to train, test\")\n",
    "x_train, x_test, y_train, y_test = train_test_split(np_image_list, image_labels, test_size=0.2, random_state = 42) "
   ]
  },
  {
   "cell_type": "code",
   "execution_count": 139,
   "metadata": {},
   "outputs": [
    {
     "name": "stdout",
     "output_type": "stream",
     "text": [
      "(1032,)\n",
      "(258,)\n"
     ]
    }
   ],
   "source": [
    "'''# Convert labels to one-hot encoding\n",
    "y_train = to_categorical(y_train, num_classes=n_classes)\n",
    "y_test = to_categorical(y_test, num_classes=n_classes)'''\n",
    "y_train = np.squeeze(y_train)\n",
    "y_test = np.squeeze(y_test)\n",
    "print(y_train.shape)\n",
    "print(y_test.shape)"
   ]
  },
  {
   "cell_type": "code",
   "execution_count": 140,
   "metadata": {},
   "outputs": [],
   "source": [
    "aug = ImageDataGenerator(\n",
    "    rotation_range=25, width_shift_range=0.1,\n",
    "    height_shift_range=0.1, shear_range=0.2, \n",
    "    zoom_range=0.2,horizontal_flip=True, \n",
    "    fill_mode=\"nearest\")"
   ]
  },
  {
   "cell_type": "code",
   "execution_count": 141,
   "metadata": {},
   "outputs": [],
   "source": [
    "model = Sequential()\n",
    "inputShape = (height, width, depth)\n",
    "chanDim = -1\n",
    "if K.image_data_format() == \"channels_first\":\n",
    "    inputShape = (depth, height, width)\n",
    "    chanDim = 1\n",
    "model.add(Conv2D(32, (3, 3), padding=\"same\",input_shape=inputShape))\n",
    "model.add(Activation(\"relu\"))\n",
    "model.add(BatchNormalization(axis=chanDim))\n",
    "model.add(MaxPooling2D(pool_size=(3, 3)))\n",
    "model.add(Dropout(0.25))\n",
    "model.add(Conv2D(64, (3, 3), padding=\"same\"))\n",
    "model.add(Activation(\"relu\"))\n",
    "model.add(BatchNormalization(axis=chanDim))\n",
    "model.add(Conv2D(64, (3, 3), padding=\"same\"))\n",
    "model.add(Activation(\"relu\"))\n",
    "model.add(BatchNormalization(axis=chanDim))\n",
    "model.add(MaxPooling2D(pool_size=(2, 2)))\n",
    "model.add(Dropout(0.25))\n",
    "model.add(Conv2D(128, (3, 3), padding=\"same\"))\n",
    "model.add(Activation(\"relu\"))\n",
    "model.add(BatchNormalization(axis=chanDim))\n",
    "model.add(Conv2D(128, (3, 3), padding=\"same\"))\n",
    "model.add(Activation(\"relu\"))\n",
    "model.add(BatchNormalization(axis=chanDim))\n",
    "model.add(MaxPooling2D(pool_size=(2, 2)))\n",
    "model.add(Dropout(0.25))\n",
    "model.add(Flatten())\n",
    "model.add(Dense(1024, activation=\"relu\"))\n",
    "model.add(Activation(\"relu\"))\n",
    "model.add(BatchNormalization())\n",
    "model.add(Dropout(0.5))\n",
    "model.add(Dense(n_classes))\n",
    "model.add(Dense(1, activation=\"sigmoid\"))"
   ]
  },
  {
   "cell_type": "code",
   "execution_count": 142,
   "metadata": {},
   "outputs": [
    {
     "name": "stdout",
     "output_type": "stream",
     "text": [
      "Model: \"sequential_11\"\n",
      "_________________________________________________________________\n",
      " Layer (type)                Output Shape              Param #   \n",
      "=================================================================\n",
      " conv2d_55 (Conv2D)          (None, 256, 256, 32)      896       \n",
      "                                                                 \n",
      " activation_75 (Activation)  (None, 256, 256, 32)      0         \n",
      "                                                                 \n",
      " batch_normalization_66 (Ba  (None, 256, 256, 32)      128       \n",
      " tchNormalization)                                               \n",
      "                                                                 \n",
      " max_pooling2d_33 (MaxPooli  (None, 85, 85, 32)        0         \n",
      " ng2D)                                                           \n",
      "                                                                 \n",
      " dropout_44 (Dropout)        (None, 85, 85, 32)        0         \n",
      "                                                                 \n",
      " conv2d_56 (Conv2D)          (None, 85, 85, 64)        18496     \n",
      "                                                                 \n",
      " activation_76 (Activation)  (None, 85, 85, 64)        0         \n",
      "                                                                 \n",
      " batch_normalization_67 (Ba  (None, 85, 85, 64)        256       \n",
      " tchNormalization)                                               \n",
      "                                                                 \n",
      " conv2d_57 (Conv2D)          (None, 85, 85, 64)        36928     \n",
      "                                                                 \n",
      " activation_77 (Activation)  (None, 85, 85, 64)        0         \n",
      "                                                                 \n",
      " batch_normalization_68 (Ba  (None, 85, 85, 64)        256       \n",
      " tchNormalization)                                               \n",
      "                                                                 \n",
      " max_pooling2d_34 (MaxPooli  (None, 42, 42, 64)        0         \n",
      " ng2D)                                                           \n",
      "                                                                 \n",
      " dropout_45 (Dropout)        (None, 42, 42, 64)        0         \n",
      "                                                                 \n",
      " conv2d_58 (Conv2D)          (None, 42, 42, 128)       73856     \n",
      "                                                                 \n",
      " activation_78 (Activation)  (None, 42, 42, 128)       0         \n",
      "                                                                 \n",
      " batch_normalization_69 (Ba  (None, 42, 42, 128)       512       \n",
      " tchNormalization)                                               \n",
      "                                                                 \n",
      " conv2d_59 (Conv2D)          (None, 42, 42, 128)       147584    \n",
      "                                                                 \n",
      " activation_79 (Activation)  (None, 42, 42, 128)       0         \n",
      "                                                                 \n",
      " batch_normalization_70 (Ba  (None, 42, 42, 128)       512       \n",
      " tchNormalization)                                               \n",
      "                                                                 \n",
      " max_pooling2d_35 (MaxPooli  (None, 21, 21, 128)       0         \n",
      " ng2D)                                                           \n",
      "                                                                 \n",
      " dropout_46 (Dropout)        (None, 21, 21, 128)       0         \n",
      "                                                                 \n",
      " flatten_11 (Flatten)        (None, 56448)             0         \n",
      "                                                                 \n",
      " dense_24 (Dense)            (None, 1024)              57803776  \n",
      "                                                                 \n",
      " activation_80 (Activation)  (None, 1024)              0         \n",
      "                                                                 \n",
      " batch_normalization_71 (Ba  (None, 1024)              4096      \n",
      " tchNormalization)                                               \n",
      "                                                                 \n",
      " dropout_47 (Dropout)        (None, 1024)              0         \n",
      "                                                                 \n",
      " dense_25 (Dense)            (None, 2)                 2050      \n",
      "                                                                 \n",
      " dense_26 (Dense)            (None, 1)                 3         \n",
      "                                                                 \n",
      "=================================================================\n",
      "Total params: 58089349 (221.59 MB)\n",
      "Trainable params: 58086469 (221.58 MB)\n",
      "Non-trainable params: 2880 (11.25 KB)\n",
      "_________________________________________________________________\n"
     ]
    }
   ],
   "source": [
    "model.summary()"
   ]
  },
  {
   "cell_type": "code",
   "execution_count": 143,
   "metadata": {},
   "outputs": [
    {
     "name": "stderr",
     "output_type": "stream",
     "text": [
      "WARNING:absl:`lr` is deprecated in Keras optimizer, please use `learning_rate` or use the legacy optimizer, e.g.,tf.keras.optimizers.legacy.Adam.\n"
     ]
    },
    {
     "name": "stdout",
     "output_type": "stream",
     "text": [
      "[INFO] training network...\n"
     ]
    }
   ],
   "source": [
    "opt = Adam(lr=INIT_LR)\n",
    "# distribution\n",
    "model.compile(loss=\"binary_crossentropy\", optimizer=opt,metrics=[\"accuracy\"])\n",
    "# train the network\n",
    "print(\"[INFO] training network...\")"
   ]
  },
  {
   "cell_type": "code",
   "execution_count": 144,
   "metadata": {},
   "outputs": [
    {
     "name": "stdout",
     "output_type": "stream",
     "text": [
      "(1032, 256, 256, 3)\n",
      "(258, 256, 256, 3)\n",
      "(1032,)\n",
      "(258,)\n"
     ]
    }
   ],
   "source": [
    "print(x_train.shape)\n",
    "print(x_test.shape)\n",
    "print(y_train.shape)\n",
    "print(y_test.shape)"
   ]
  },
  {
   "cell_type": "code",
   "execution_count": 145,
   "metadata": {},
   "outputs": [
    {
     "name": "stdout",
     "output_type": "stream",
     "text": [
      "Epoch 1/25\n",
      "32/32 [==============================] - 132s 4s/step - loss: 0.0787 - accuracy: 0.9760 - val_loss: 18.6580 - val_accuracy: 0.4612\n",
      "Epoch 2/25\n",
      "32/32 [==============================] - 127s 4s/step - loss: 0.0234 - accuracy: 0.9970 - val_loss: 11.4978 - val_accuracy: 0.4612\n",
      "Epoch 3/25\n",
      "32/32 [==============================] - 124s 4s/step - loss: 0.0246 - accuracy: 0.9950 - val_loss: 5.9953 - val_accuracy: 0.4612\n",
      "Epoch 4/25\n",
      "32/32 [==============================] - 116s 4s/step - loss: 0.0198 - accuracy: 0.9940 - val_loss: 4.5209 - val_accuracy: 0.4612\n",
      "Epoch 5/25\n",
      "32/32 [==============================] - 127s 4s/step - loss: 0.0052 - accuracy: 0.9990 - val_loss: 6.0261 - val_accuracy: 0.4612\n",
      "Epoch 6/25\n",
      "32/32 [==============================] - 147s 5s/step - loss: 0.0054 - accuracy: 0.9980 - val_loss: 3.9814 - val_accuracy: 0.4612\n",
      "Epoch 7/25\n",
      "32/32 [==============================] - 143s 4s/step - loss: 0.0171 - accuracy: 0.9970 - val_loss: 4.8871 - val_accuracy: 0.4612\n",
      "Epoch 8/25\n",
      "32/32 [==============================] - 126s 4s/step - loss: 0.0201 - accuracy: 0.9960 - val_loss: 1.2804 - val_accuracy: 0.4612\n",
      "Epoch 9/25\n",
      "32/32 [==============================] - 141s 4s/step - loss: 0.0061 - accuracy: 0.9980 - val_loss: 5.0520 - val_accuracy: 0.4612\n",
      "Epoch 10/25\n",
      "32/32 [==============================] - 122s 4s/step - loss: 0.0059 - accuracy: 0.9980 - val_loss: 4.4160 - val_accuracy: 0.4612\n",
      "Epoch 11/25\n",
      "32/32 [==============================] - 119s 4s/step - loss: 0.0036 - accuracy: 0.9980 - val_loss: 4.6129 - val_accuracy: 0.4612\n",
      "Epoch 12/25\n",
      "32/32 [==============================] - 116s 4s/step - loss: 0.0022 - accuracy: 1.0000 - val_loss: 4.4653 - val_accuracy: 0.4612\n",
      "Epoch 13/25\n",
      "32/32 [==============================] - 117s 4s/step - loss: 0.0016 - accuracy: 1.0000 - val_loss: 0.0148 - val_accuracy: 0.9922\n",
      "Epoch 14/25\n",
      "32/32 [==============================] - 125s 4s/step - loss: 0.0069 - accuracy: 0.9970 - val_loss: 5.0648 - val_accuracy: 0.4690\n",
      "Epoch 15/25\n",
      "32/32 [==============================] - 160s 5s/step - loss: 0.0016 - accuracy: 1.0000 - val_loss: 0.0011 - val_accuracy: 1.0000\n",
      "Epoch 16/25\n",
      "32/32 [==============================] - 160s 5s/step - loss: 0.0011 - accuracy: 0.9990 - val_loss: 4.0264 - val_accuracy: 0.4690\n",
      "Epoch 17/25\n",
      "32/32 [==============================] - 162s 5s/step - loss: 0.0124 - accuracy: 0.9970 - val_loss: 8.7607e-04 - val_accuracy: 1.0000\n",
      "Epoch 18/25\n",
      "32/32 [==============================] - 160s 5s/step - loss: 0.0020 - accuracy: 0.9990 - val_loss: 5.6868e-04 - val_accuracy: 1.0000\n",
      "Epoch 19/25\n",
      "32/32 [==============================] - 161s 5s/step - loss: 0.0047 - accuracy: 0.9990 - val_loss: 0.1336 - val_accuracy: 0.9845\n",
      "Epoch 20/25\n",
      "32/32 [==============================] - 158s 5s/step - loss: 0.0183 - accuracy: 0.9960 - val_loss: 0.0068 - val_accuracy: 0.9922\n",
      "Epoch 21/25\n",
      "32/32 [==============================] - 161s 5s/step - loss: 0.0069 - accuracy: 0.9980 - val_loss: 0.0489 - val_accuracy: 0.9845\n",
      "Epoch 22/25\n",
      "32/32 [==============================] - 287s 9s/step - loss: 0.0064 - accuracy: 0.9980 - val_loss: 1.3296 - val_accuracy: 0.5775\n",
      "Epoch 23/25\n",
      "32/32 [==============================] - 160s 5s/step - loss: 0.0059 - accuracy: 0.9980 - val_loss: 1.6338 - val_accuracy: 0.9031\n",
      "Epoch 24/25\n",
      "32/32 [==============================] - 133s 4s/step - loss: 0.0048 - accuracy: 0.9970 - val_loss: 0.0027 - val_accuracy: 1.0000\n",
      "Epoch 25/25\n",
      "32/32 [==============================] - 113s 4s/step - loss: 0.0012 - accuracy: 1.0000 - val_loss: 0.0058 - val_accuracy: 0.9922\n"
     ]
    }
   ],
   "source": [
    "history = model.fit(\n",
    "    aug.flow(x_train, y_train, batch_size=BS),\n",
    "    validation_data=(x_test, y_test),\n",
    "    steps_per_epoch=len(x_train) // BS,\n",
    "    epochs=EPOCHS, verbose=1)"
   ]
  },
  {
   "cell_type": "code",
   "execution_count": 148,
   "metadata": {},
   "outputs": [
    {
     "data": {
      "text/plain": [
       "<matplotlib.legend.Legend at 0x22d7f6add50>"
      ]
     },
     "execution_count": 148,
     "metadata": {},
     "output_type": "execute_result"
    },
    {
     "data": {
      "image/png": "[encoded data removed]",
      "text/plain": [
       "<Figure size 640x480 with 1 Axes>"
      ]
     },
     "metadata": {},
     "output_type": "display_data"
    },
    {
     "data": {
      "image/png": "[encoded data removed]",
      "text/plain": [
       "<Figure size 640x480 with 1 Axes>"
      ]
     },
     "metadata": {},
     "output_type": "display_data"
    }
   ],
   "source": [
    "acc = history.history['accuracy']  # 'accuracy' for training accuracy\n",
    "val_acc = history.history['val_accuracy']  # 'val_accuracy' for validation accuracy\n",
    "loss = history.history['loss']\n",
    "val_loss = history.history['val_loss']\n",
    "\n",
    "epochs = range(1, len(acc) + 1)\n",
    "#Train and validation accuracy\n",
    "plt.plot(epochs, acc, 'b', label='Training accurarcy')\n",
    "plt.plot(epochs, val_acc, 'r', label='Validation accurarcy')\n",
    "plt.title('Training and Validation accurarcy')\n",
    "plt.legend()\n",
    "\n",
    "plt.figure()\n",
    "#Train and validation loss\n",
    "plt.plot(epochs, loss, 'b', label='Training loss')\n",
    "plt.plot(epochs, val_loss, 'r', label='Validation loss')\n",
    "plt.title('Training and Validation loss')\n",
    "plt.legend()"
   ]
  },
  {
   "cell_type": "code",
   "execution_count": 149,
   "metadata": {},
   "outputs": [
    {
     "name": "stdout",
     "output_type": "stream",
     "text": [
      "[INFO] Saving model...\n"
     ]
    }
   ],
   "source": [
    "# save the model to disk\n",
    "print(\"[INFO] Saving model...\")\n",
    "pickle.dump(model,open('face_model.pkl', 'wb'))"
   ]
  },
  {
   "cell_type": "code",
   "execution_count": 150,
   "metadata": {},
   "outputs": [
    {
     "name": "stdout",
     "output_type": "stream",
     "text": [
      "9/9 [==============================] - 6s 602ms/step - loss: 0.0058 - accuracy: 0.9922\n",
      "Total Accuracy: 99.22%\n"
     ]
    }
   ],
   "source": [
    "# Assuming you have trained your model and have test_data and test_labels\n",
    "test_loss, test_accuracy = model.evaluate(x_test, y_test)\n",
    "\n",
    "# Display the total accuracy\n",
    "print(f'Total Accuracy: {test_accuracy * 100:.2f}%')"
   ]
  },
  {
   "cell_type": "code",
   "execution_count": 156,
   "metadata": {},
   "outputs": [],
   "source": [
    "from tensorflow.keras.preprocessing.image import load_img\n",
    "# Load the image\n",
    "image_path = \"C:/Users/ayush/OneDrive/Desktop/Data sc/datasets/Face_Mask_Detection_Dataset_MaskNet/With_Mask/B001.jpg\"\n",
    "\n",
    "image = load_img(image_path, target_size=(height, width))  # Adjust target_size as per your model's input size\n",
    "\n",
    "# Convert the image to a NumPy array\n",
    "image_array = img_to_array(image)\n",
    "\n",
    "# Normalize pixel values if needed (e.g., dividing by 223.0 for values in [0, 1])\n",
    "image_array /= 223.0\n",
    "\n",
    "# Expand dimensions to match the input shape of your model\n",
    "image_array = np.expand_dims(image_array, axis=0)"
   ]
  },
  {
   "cell_type": "code",
   "execution_count": 157,
   "metadata": {},
   "outputs": [
    {
     "name": "stdout",
     "output_type": "stream",
     "text": [
      "1/1 [==============================] - 0s 81ms/step\n",
      "Predicted type: With_mask\n"
     ]
    }
   ],
   "source": [
    "# Make predictions\n",
    "predictions = model.predict(image_array)\n",
    "predicted_class_index = np.argmax(predictions)\n",
    "predicted_class = label_list[predicted_class_index]\n",
    "print(f\"Predicted type: {predicted_class}\")"
   ]
  },
  {
   "cell_type": "code",
   "execution_count": null,
   "metadata": {},
   "outputs": [],
   "source": []
  }
 ],
 "metadata": {
  "kernelspec": {
   "display_name": "base",
   "language": "python",
   "name": "python3"
  },
  "language_info": {
   "codemirror_mode": {
    "name": "ipython",
    "version": 3
   },
   "file_extension": ".py",
   "mimetype": "text/x-python",
   "name": "python",
   "nbconvert_exporter": "python",
   "pygments_lexer": "ipython3",
   "version": "3.10.9"
  },
  "orig_nbformat": 4
 },
 "nbformat": 4,
 "nbformat_minor": 2
}
